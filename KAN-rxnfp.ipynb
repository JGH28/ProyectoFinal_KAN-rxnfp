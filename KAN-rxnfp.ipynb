{
 "cells": [
  {
   "cell_type": "markdown",
   "id": "c1c86527",
   "metadata": {},
   "source": [
    "# ME TIENE QUE SALIR"
   ]
  },
  {
   "cell_type": "code",
   "execution_count": 1,
   "id": "7ce52aef",
   "metadata": {},
   "outputs": [
    {
     "name": "stdout",
     "output_type": "stream",
     "text": [
      "cpu\n"
     ]
    }
   ],
   "source": [
    "from kan import *\n",
    "import torch\n",
    "import numpy as np\n",
    "import pandas as pd\n",
    "torch.set_default_dtype(torch.float64)\n",
    "\n",
    "device = torch.device('cuda' if torch.cuda.is_available() else 'cpu')\n",
    "print(device)"
   ]
  },
  {
   "cell_type": "code",
   "execution_count": 2,
   "id": "15fcad4a",
   "metadata": {},
   "outputs": [],
   "source": [
    "dataset = pd.read_csv('/home/jesus_gh/MetodosBiomAI/KAN-RXNFP/schneider50k.tsv',sep='\\t')\n",
    "dataset['superclass'] = dataset['rxn_class'].apply(lambda x: int(str(x).split('.')[0]) - 1)\n",
    "#print(dataset.head())"
   ]
  },
  {
   "cell_type": "code",
   "execution_count": 3,
   "id": "57c4b6d0",
   "metadata": {},
   "outputs": [
    {
     "data": {
      "text/html": [
       "<div>\n",
       "<style scoped>\n",
       "    .dataframe tbody tr th:only-of-type {\n",
       "        vertical-align: middle;\n",
       "    }\n",
       "\n",
       "    .dataframe tbody tr th {\n",
       "        vertical-align: top;\n",
       "    }\n",
       "\n",
       "    .dataframe thead th {\n",
       "        text-align: right;\n",
       "    }\n",
       "</style>\n",
       "<table border=\"1\" class=\"dataframe\">\n",
       "  <thead>\n",
       "    <tr style=\"text-align: right;\">\n",
       "      <th></th>\n",
       "      <th>Unnamed: 0</th>\n",
       "      <th>original_rxn</th>\n",
       "      <th>rxn_class</th>\n",
       "      <th>rxn</th>\n",
       "      <th>superclass</th>\n",
       "    </tr>\n",
       "  </thead>\n",
       "  <tbody>\n",
       "    <tr>\n",
       "      <th>0</th>\n",
       "      <td>0</td>\n",
       "      <td>[CH3:17][S:14](=[O:15])(=[O:16])[N:11]1[CH2:10...</td>\n",
       "      <td>6.1.5</td>\n",
       "      <td>C1CCCCC1.CCO.CS(=O)(=O)N1CCN(Cc2ccccc2)CC1.[OH...</td>\n",
       "      <td>5</td>\n",
       "    </tr>\n",
       "    <tr>\n",
       "      <th>1</th>\n",
       "      <td>1</td>\n",
       "      <td>O.O.[Na+].[CH3:1][c:2]1[cH:7][c:6]([N+:8](=O)[...</td>\n",
       "      <td>7.1.1</td>\n",
       "      <td>CCOC(C)=O.Cc1cc([N+](=O)[O-])ccc1NC(=O)c1ccccc...</td>\n",
       "      <td>6</td>\n",
       "    </tr>\n",
       "    <tr>\n",
       "      <th>2</th>\n",
       "      <td>2</td>\n",
       "      <td>[CH3:1][O:2][c:3]1[cH:4][cH:5][c:6](-[c:9]2[cH...</td>\n",
       "      <td>1.8.5</td>\n",
       "      <td>COc1ccc(-c2coc3ccc(-c4nnc(S)o4)cc23)cc1.COc1cc...</td>\n",
       "      <td>0</td>\n",
       "    </tr>\n",
       "    <tr>\n",
       "      <th>3</th>\n",
       "      <td>3</td>\n",
       "      <td>Cl.[CH3:43][CH2:42][S:44](=[O:45])(=[O:46])Cl....</td>\n",
       "      <td>2.2.3</td>\n",
       "      <td>CCS(=O)(=O)Cl.CN(C(=O)N(C)[C@@H]1CN(C(=O)C2CCN...</td>\n",
       "      <td>1</td>\n",
       "    </tr>\n",
       "    <tr>\n",
       "      <th>4</th>\n",
       "      <td>4</td>\n",
       "      <td>[CH3:25][O:24][c:21]1[cH:22][cH:23][c:17]([O:1...</td>\n",
       "      <td>1.3.7</td>\n",
       "      <td>COc1ccc(OC)c(N)c1.Cc1cc(Cl)nc(-c2ccccn2)n1&gt;&gt;CO...</td>\n",
       "      <td>0</td>\n",
       "    </tr>\n",
       "  </tbody>\n",
       "</table>\n",
       "</div>"
      ],
      "text/plain": [
       "   Unnamed: 0                                       original_rxn rxn_class  \\\n",
       "0           0  [CH3:17][S:14](=[O:15])(=[O:16])[N:11]1[CH2:10...     6.1.5   \n",
       "1           1  O.O.[Na+].[CH3:1][c:2]1[cH:7][c:6]([N+:8](=O)[...     7.1.1   \n",
       "2           2  [CH3:1][O:2][c:3]1[cH:4][cH:5][c:6](-[c:9]2[cH...     1.8.5   \n",
       "3           3  Cl.[CH3:43][CH2:42][S:44](=[O:45])(=[O:46])Cl....     2.2.3   \n",
       "4           4  [CH3:25][O:24][c:21]1[cH:22][cH:23][c:17]([O:1...     1.3.7   \n",
       "\n",
       "                                                 rxn  superclass  \n",
       "0  C1CCCCC1.CCO.CS(=O)(=O)N1CCN(Cc2ccccc2)CC1.[OH...           5  \n",
       "1  CCOC(C)=O.Cc1cc([N+](=O)[O-])ccc1NC(=O)c1ccccc...           6  \n",
       "2  COc1ccc(-c2coc3ccc(-c4nnc(S)o4)cc23)cc1.COc1cc...           0  \n",
       "3  CCS(=O)(=O)Cl.CN(C(=O)N(C)[C@@H]1CN(C(=O)C2CCN...           1  \n",
       "4  COc1ccc(OC)c(N)c1.Cc1cc(Cl)nc(-c2ccccn2)n1>>CO...           0  "
      ]
     },
     "execution_count": 3,
     "metadata": {},
     "output_type": "execute_result"
    }
   ],
   "source": [
    "# Lista de columnas a eliminar\n",
    "columnas_a_eliminar = ['source', 'split',]  \n",
    "\n",
    "# Eliminar las columnas del dataset original\n",
    "dataset.drop(columns=columnas_a_eliminar, inplace=True)\n",
    "\n",
    "# Mostrar las primeras filas del dataset modificado\n",
    "dataset.head()"
   ]
  },
  {
   "cell_type": "code",
   "execution_count": 4,
   "id": "6106b5df",
   "metadata": {},
   "outputs": [],
   "source": [
    "dataset = dataset.sample(150)  # Usar un subconjunto pequeño para probar"
   ]
  },
  {
   "cell_type": "code",
   "execution_count": 5,
   "id": "94bf5caf",
   "metadata": {},
   "outputs": [],
   "source": [
    "inputs = dataset['rxn'] #Indico cuales son las entradas\n",
    "outputs  = dataset['superclass'] #Indico cuales son las salidas"
   ]
  },
  {
   "cell_type": "code",
   "execution_count": 6,
   "id": "afc82c43",
   "metadata": {},
   "outputs": [
    {
     "name": "stderr",
     "output_type": "stream",
     "text": [
      "/tmp/ipykernel_446637/3186771519.py:21: UserWarning: Creating a tensor from a list of numpy.ndarrays is extremely slow. Please consider converting the list to a single numpy.ndarray with numpy.array() before converting to a tensor. (Triggered internally at ../torch/csrc/utils/tensor_new.cpp:275.)\n",
      "  inputs_tensor = torch.tensor(inputs_tokenized, dtype=torch.float64, device=device)\n"
     ]
    }
   ],
   "source": [
    "from sklearn.preprocessing import LabelEncoder\n",
    "import numpy as np\n",
    "\n",
    "# Crear una lista de caracteres únicos encontrados en SMILES\n",
    "smiles_vocab = list(set(\"\".join(dataset['rxn'])))\n",
    "max_length = dataset['rxn'].str.len().max()  # Longitud máxima de SMILES\n",
    "\n",
    "# Tokenización con padding\n",
    "def one_hot_encode_smiles(smiles, vocab, max_len):\n",
    "    vocab_size = len(vocab)\n",
    "    char_to_idx = {char: idx for idx, char in enumerate(vocab)}\n",
    "    encoding = np.zeros((max_len, vocab_size))  # Matriz con padding\n",
    "    for i, char in enumerate(smiles[:max_len]):  # Truncar si es necesario\n",
    "        encoding[i, char_to_idx[char]] = 1\n",
    "    return encoding.flatten()\n",
    "\n",
    "# Aplicar la codificación one-hot con padding a todas las entradas SMILES\n",
    "inputs_tokenized = dataset['rxn'].apply(lambda x: one_hot_encode_smiles(x, smiles_vocab, max_length)).tolist()\n",
    "\n",
    "# Convertir las listas tokenizadas en tensores\n",
    "inputs_tensor = torch.tensor(inputs_tokenized, dtype=torch.float64, device=device)\n"
   ]
  },
  {
   "cell_type": "code",
   "execution_count": 7,
   "id": "27d4bda1",
   "metadata": {},
   "outputs": [
    {
     "name": "stdout",
     "output_type": "stream",
     "text": [
      "Train set: torch.Size([105, 13120]), torch.Size([105])\n",
      "Test set: torch.Size([45, 13120]), torch.Size([45])\n"
     ]
    }
   ],
   "source": [
    "from sklearn.model_selection import train_test_split\n",
    "import torch\n",
    "\n",
    "# Convertir etiquetas de superclases en tensores\n",
    "outputs_tensor = torch.tensor(outputs.values, dtype=torch.float64, device=device)\n",
    "\n",
    "# Dividir en conjuntos de entrenamiento y prueba\n",
    "train_inputs, test_inputs, train_outputs, test_outputs = train_test_split(inputs_tensor, outputs_tensor, test_size=0.3, random_state=42)\n",
    "\n",
    "# Imprimo las dimensiones de los conjuntos de entrenamiento y prueba\n",
    "print(f'Train set: {train_inputs.shape}, {train_outputs.shape}') \n",
    "print(f'Test set: {test_inputs.shape}, {test_outputs.shape}')\n"
   ]
  },
  {
   "cell_type": "code",
   "execution_count": 8,
   "id": "d1466d59",
   "metadata": {},
   "outputs": [
    {
     "name": "stdout",
     "output_type": "stream",
     "text": [
      "Train input dtype: torch.float64\n",
      "Test input dtype: torch.float64\n"
     ]
    }
   ],
   "source": [
    "# Imprimir los tipos de datos de los tensores\n",
    "print(f\"Train input dtype: {train_inputs.dtype}\")\n",
    "print(f\"Test input dtype: {test_inputs.dtype}\")"
   ]
  },
  {
   "cell_type": "code",
   "execution_count": 9,
   "id": "a49a2f74",
   "metadata": {},
   "outputs": [],
   "source": [
    "# Hago un diccionario con los conjuntos de datos\n",
    "dataset_kan = {\n",
    "    'train_input': train_inputs,\n",
    "    'train_label': train_outputs,\n",
    "    'test_input': test_inputs,\n",
    "    'test_label': test_outputs,\n",
    "}"
   ]
  },
  {
   "cell_type": "code",
   "execution_count": 10,
   "id": "2ace3cde",
   "metadata": {},
   "outputs": [
    {
     "name": "stdout",
     "output_type": "stream",
     "text": [
      "checkpoint directory created: ./model\n",
      "saving model version 0.0\n"
     ]
    }
   ],
   "source": [
    "# Inicializo el modelo KAN, Una entrada, \n",
    "# una capa oculta de 5 neuronas, dos neuranas multiples ocultas y una salida\n",
    "model = KAN(width=[train_inputs.shape[1], [5,2], 1], grid=3, k=3)"
   ]
  },
  {
   "cell_type": "markdown",
   "id": "da44ddaa",
   "metadata": {},
   "source": [
    "# Definir una métrica de precisión para entrenamiento y prueba\n",
    "def train_acc():\n",
    "    return torch.mean((torch.round(model(train_inputs)) == train_outputs).float()) # Aproximación de la precisión\n",
    "# round redondea a 0 o 1\n",
    "\n",
    "\n",
    "def test_acc():\n",
    "    return torch.mean((torch.round(model(test_inputs)) == test_outputs).float())\n",
    "\n",
    "#Luego probar con argmax en vez de torch"
   ]
  },
  {
   "cell_type": "code",
   "execution_count": 11,
   "id": "97e77afc",
   "metadata": {},
   "outputs": [],
   "source": [
    "# Definir las funciones de métrica personalizadas\n",
    "# argmax nos da el indice del valor maximo de la fila, lo que nos da la clase\n",
    "def train_acc():\n",
    "    predictions = model(train_inputs)\n",
    "    return torch.mean((torch.argmax(predictions, dim=1) == train_outputs).float()) \n",
    "\n",
    "def test_acc():\n",
    "    predictions = model(test_inputs)\n",
    "    return torch.mean((torch.argmax(predictions, dim=1) == test_outputs).float())"
   ]
  },
  {
   "cell_type": "code",
   "execution_count": 12,
   "id": "19bd895e",
   "metadata": {},
   "outputs": [],
   "source": [
    "train_outputs = train_outputs.view(-1, 1) # Asegurarse de que las etiquetas tengan la forma correcta"
   ]
  },
  {
   "cell_type": "code",
   "execution_count": 13,
   "id": "c1ac9c89",
   "metadata": {},
   "outputs": [
    {
     "name": "stderr",
     "output_type": "stream",
     "text": [
      "description:   0%|                                                           | 0/50 [00:00<?, ?it/s]/home/jesus_gh/miniconda3/envs/KAN_rxnfp/lib/python3.9/site-packages/tqdm/auto.py:21: TqdmWarning: IProgress not found. Please update jupyter and ipywidgets. See https://ipywidgets.readthedocs.io/en/stable/user_install.html\n",
      "  from .autonotebook import tqdm as notebook_tqdm\n",
      "| train_loss: 3.27e+00 | test_loss: 3.30e+00 | reg: 1.78e+02 | : 100%|█| 50/50 [29:47<00:00, 35.75s/\n"
     ]
    },
    {
     "name": "stdout",
     "output_type": "stream",
     "text": [
      "saving model version 0.1\n"
     ]
    },
    {
     "data": {
      "text/plain": [
       "(0.2857142984867096, 0.3333333432674408)"
      ]
     },
     "execution_count": 13,
     "metadata": {},
     "output_type": "execute_result"
    }
   ],
   "source": [
    "results = model.fit(dataset_kan, opt=\"LBFGS\",steps=50, metrics=(train_acc, test_acc)) # Entrenar el modelo\n",
    "results['train_acc'][-1], results['test_acc'][-1] # Imprimir la precisión del modelo\n"
   ]
  },
  {
   "cell_type": "code",
   "execution_count": 14,
   "id": "87d3f1a3",
   "metadata": {},
   "outputs": [
    {
     "name": "stdout",
     "output_type": "stream",
     "text": [
      "Final train accuracy: 0.2857142984867096\n",
      "Final test accuracy: 0.3333333432674408\n"
     ]
    }
   ],
   "source": [
    "print(f\"Final train accuracy: {results['train_acc'][-1]}\")\n",
    "print(f\"Final test accuracy: {results['test_acc'][-1]}\")"
   ]
  },
  {
   "cell_type": "code",
   "execution_count": null,
   "id": "645783d9",
   "metadata": {},
   "outputs": [],
   "source": [
    "model.plot()\n"
   ]
  },
  {
   "cell_type": "code",
   "execution_count": null,
   "id": "c3fc349e",
   "metadata": {},
   "outputs": [],
   "source": [
    "lib = ['x','x^2']\n",
    "\n",
    "model.auto_symbolic(lib=lib)"
   ]
  },
  {
   "cell_type": "code",
   "execution_count": null,
   "id": "98906d5f",
   "metadata": {},
   "outputs": [],
   "source": [
    "formula1, formula2 = model.symbolic_formula()[0]\n",
    "formula1"
   ]
  },
  {
   "cell_type": "code",
   "execution_count": 18,
   "id": "ae677d17",
   "metadata": {},
   "outputs": [
    {
     "name": "stdout",
     "output_type": "stream",
     "text": [
      "saving model version 0.2\n"
     ]
    }
   ],
   "source": [
    "model = model.prune()\n"
   ]
  },
  {
   "cell_type": "code",
   "execution_count": 19,
   "id": "f22a638a",
   "metadata": {},
   "outputs": [
    {
     "ename": "",
     "evalue": "",
     "output_type": "error",
     "traceback": [
      "\u001b[1;31mThe Kernel crashed while executing code in the current cell or a previous cell. \n",
      "\u001b[1;31mPlease review the code in the cell(s) to identify a possible cause of the failure. \n",
      "\u001b[1;31mClick <a href='https://aka.ms/vscodeJupyterKernelCrash'>here</a> for more info. \n",
      "\u001b[1;31mView Jupyter <a href='command:jupyter.viewOutput'>log</a> for further details."
     ]
    }
   ],
   "source": [
    "model.plot()"
   ]
  },
  {
   "cell_type": "code",
   "execution_count": 67,
   "id": "35ffdc7d",
   "metadata": {},
   "outputs": [
    {
     "data": {
      "text/latex": [
       "$\\displaystyle 0$"
      ],
      "text/plain": [
       "0"
      ]
     },
     "execution_count": 67,
     "metadata": {},
     "output_type": "execute_result"
    }
   ],
   "source": [
    "from kan.utils import ex_round\n",
    "\n",
    "ex_round(model.symbolic_formula()[0][0],4)"
   ]
  }
 ],
 "metadata": {
  "kernelspec": {
   "display_name": "KAN_rxnfp",
   "language": "python",
   "name": "python3"
  },
  "language_info": {
   "codemirror_mode": {
    "name": "ipython",
    "version": 3
   },
   "file_extension": ".py",
   "mimetype": "text/x-python",
   "name": "python",
   "nbconvert_exporter": "python",
   "pygments_lexer": "ipython3",
   "version": "3.9.18"
  }
 },
 "nbformat": 4,
 "nbformat_minor": 5
}
